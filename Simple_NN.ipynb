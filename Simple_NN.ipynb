{
 "cells": [
  {
   "cell_type": "markdown",
   "metadata": {},
   "source": [
    "## Imports"
   ]
  },
  {
   "cell_type": "code",
   "execution_count": 37,
   "metadata": {
    "collapsed": false
   },
   "outputs": [],
   "source": [
    "import numpy as np"
   ]
  },
  {
   "cell_type": "markdown",
   "metadata": {},
   "source": [
    "## Network Class"
   ]
  },
  {
   "cell_type": "code",
   "execution_count": 197,
   "metadata": {
    "collapsed": false
   },
   "outputs": [],
   "source": [
    "\"\"\"\n",
    "Simple_NN\n",
    "Class to create a simple neural network\n",
    "    Activation function: sigmoid\n",
    "    Learning Algorithm: stochastic gradient descent with backpropagation\n",
    "\"\"\"\n",
    "class Simple_NN(object):\n",
    "    \n",
    "    \"\"\" \n",
    "    INITIALIZE THE NETWORK\n",
    "    Takes a list where each number in the list represents the number of neurons contained in that layer. \n",
    "    For example: Network([100, 3, 5]) creates a network with 3 layers, the first having 100 neurons, the second having 3, \n",
    "    and the output having 5\n",
    "    \"\"\"\n",
    "    def __init__(self, layers):\n",
    "        \"\"\"\n",
    "        self.layers is a list of numbers where the ith number how many neurons are in the ith layer of the network.\n",
    "        \"\"\"\n",
    "        self.layers = layers;\n",
    "        self.num_layers = len(layers);\n",
    "        \"\"\"\n",
    "        self.weights[Layer - 1, input_neuron, output_neuron] = matrix of weights for the entire network with indices\n",
    "            First dimension = layer number - 1 (weights for first layer are stored in self.weights[1,:,:])\n",
    "            Second dimension = number of the input in the current layer.\n",
    "            Third dimension = number of the output neuron from the previous layer\n",
    "            FOR EXAMPLE: The weight on the edge between neuron 5 in layer 2 and neuron 3 in layer 3 is self.weights[3,5,3]\n",
    "        \"\"\"\n",
    "        self.weights = [];\n",
    "        for layer_num in range(1, self.num_layers):\n",
    "            # For each layer, add a matrix with random starting weights\n",
    "            self.weights.append(np.random.randn(layers[layer_num], layers[layer_num - 1]));\n",
    "        #self.weights = np.array(weights);\n",
    "        \"\"\"\n",
    "        self.biases[Layer - 1, neuron] = matrix containing bias vectors for each layer\n",
    "            First dimension = layer number, with biases for layer 1 in self.biases[0,:]\n",
    "            Second dimension = which neuron in the layer\n",
    "            FOR EXAMPLE: The bias on the 3rd neuron in the 5th layer is in self.biases[6, 3]\n",
    "        \"\"\"\n",
    "        self.biases = [];\n",
    "        for layer_num in range(1, self.num_layers):\n",
    "            self.biases.append(np.random.randn(layers[layer_num]));\n",
    "        \n",
    "    \"\"\" \n",
    "    ACTIVATION FUNCTION\n",
    "    For this network, we use the sigmoid function to calculate neuron activation\n",
    "    \"\"\"      \n",
    "    def activation(self, z):\n",
    "        return 1.0 / (1 + np.exp(-z));\n",
    "    \n",
    "    def activation_derivative(self, z):\n",
    "        return (1 - self.activation(z)) * self.activation(z);\n",
    "            \n",
    "    \"\"\"\n",
    "    TRAINING\n",
    "    Train the network using stochastic gradient descent and backpropagation.\n",
    "    Training data should be given as a matrix containing (input, output) on each row\n",
    "    \"\"\"\n",
    "    def train(training_data, batch_size, num_epochs, learning_rate):\n",
    "        # Randomize the order of training examples\n",
    "        \n",
    "        # For each epoch, loop through each batch to use as training data\n",
    "        \n",
    "            # Create matrix out of all training inputs so each column contains \n",
    "                \n",
    "            # Feedforward\n",
    "            \n",
    "            # Backpropagation\n",
    "            \n",
    "            # Gradient Descent\n",
    "    \n",
    "    \n",
    "    \"\"\" \n",
    "    TODO: \n",
    "        test(testing_data)\n",
    "    \"\"\"\n",
    "    \n",
    "    def print_network(self):\n",
    "        print(\"Weights: \")\n",
    "        for layer in self.weights:\n",
    "            print(layer)\n",
    "        print(\"Biases:\" )\n",
    "        for layer in self.biases:\n",
    "            print(layer)"
   ]
  },
  {
   "cell_type": "code",
   "execution_count": 198,
   "metadata": {
    "collapsed": false
   },
   "outputs": [
    {
     "name": "stdout",
     "output_type": "stream",
     "text": [
      "[ 0.00664806  0.10499359  0.19661193]\n"
     ]
    }
   ],
   "source": [
    "layers = [3, 5, 2];\n",
    "arr = np.array([5, 2, 1])\n",
    "test = Simple_NN(layers);\n",
    "activation = test.activation_derivative(arr);\n",
    "\n",
    "\n",
    "\n",
    "print(activation);"
   ]
  },
  {
   "cell_type": "code",
   "execution_count": 205,
   "metadata": {
    "collapsed": false
   },
   "outputs": [
    {
     "name": "stdout",
     "output_type": "stream",
     "text": [
      "None\n"
     ]
    }
   ],
   "source": [
    "x = [[1, 2, 3], [4, 5, 6], [7, 8, 9]];\n",
    "X = [row for row in x];\n",
    "shuf = np.random.shuffle(x)\n",
    "print(shuf)"
   ]
  }
 ],
 "metadata": {
  "anaconda-cloud": {},
  "kernelspec": {
   "display_name": "Python [Root]",
   "language": "python",
   "name": "Python [Root]"
  },
  "language_info": {
   "codemirror_mode": {
    "name": "ipython",
    "version": 3
   },
   "file_extension": ".py",
   "mimetype": "text/x-python",
   "name": "python",
   "nbconvert_exporter": "python",
   "pygments_lexer": "ipython3",
   "version": "3.5.2"
  }
 },
 "nbformat": 4,
 "nbformat_minor": 0
}
